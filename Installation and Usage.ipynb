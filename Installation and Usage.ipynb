{
 "cells": [
  {
   "cell_type": "markdown",
   "metadata": {},
   "source": [
    "## Installation and Usage"
   ]
  },
  {
   "cell_type": "markdown",
   "metadata": {},
   "source": [
    "#### Firstly, we need to install the package:\n",
    "    > pip install -r requirements.txt\n",
    "\n",
    "##### Warning: \n",
    "Be aware that running the next cell will install the following packages in your main python environment (numpy, pandas, sklearn, requests, joblib, feature_engine, setuptools, wheel, pytest). You may want to run yourself the command \"pip install -r requirements.txt\" "
   ]
  },
  {
   "cell_type": "code",
   "execution_count": 1,
   "metadata": {
    "ExecuteTime": {
     "end_time": "2020-01-05T18:14:37.869189Z",
     "start_time": "2020-01-05T18:14:37.778338Z"
    }
   },
   "outputs": [
    {
     "data": {
      "text/plain": [
       "0"
      ]
     },
     "execution_count": 1,
     "metadata": {},
     "output_type": "execute_result"
    }
   ],
   "source": [
    "# Install the package\n",
    "import os\n",
    "os.system(\"start /B start cmd.exe @cmd /k pip install -r requirements.txt\")"
   ]
  },
  {
   "cell_type": "markdown",
   "metadata": {},
   "source": [
    "#### The requirements file contains all the packages that are needed, included my knn_model package which will get locally installed."
   ]
  },
  {
   "cell_type": "code",
   "execution_count": 2,
   "metadata": {
    "ExecuteTime": {
     "end_time": "2020-01-05T18:15:14.245546Z",
     "start_time": "2020-01-05T18:15:09.051426Z"
    }
   },
   "outputs": [
    {
     "name": "stdout",
     "output_type": "stream",
     "text": [
      "Help on package knn_model:\n",
      "\n",
      "NAME\n",
      "    knn_model\n",
      "\n",
      "PACKAGE CONTENTS\n",
      "    c_index\n",
      "    config (package)\n",
      "    cross_validation\n",
      "    data (package)\n",
      "    data_management\n",
      "    knn_classes\n",
      "    pipeline\n",
      "    predict\n",
      "    preprocessors\n",
      "    train_pipeline\n",
      "    validation\n",
      "\n",
      "DATA\n",
      "    version_file = <_io.TextIOWrapper name='D:\\\\OneDrive\\\\Desktop\\\\...\\\\kn...\n",
      "\n",
      "VERSION\n",
      "    0.0.1\n",
      "\n",
      "FILE\n",
      "    d:\\onedrive\\desktop\\joaquin projects\\wp_forest_project\\packages\\wp_knn_model\\knn_model\\__init__.py\n",
      "\n",
      "\n"
     ]
    }
   ],
   "source": [
    "# Check that the knn_model package as been installed\n",
    "help('knn_model')"
   ]
  },
  {
   "cell_type": "markdown",
   "metadata": {
    "ExecuteTime": {
     "end_time": "2019-11-23T14:58:00.440822Z",
     "start_time": "2019-11-23T14:58:00.429821Z"
    }
   },
   "source": [
    "#### Before deploying the model we need to train it first."
   ]
  },
  {
   "cell_type": "code",
   "execution_count": 4,
   "metadata": {
    "ExecuteTime": {
     "end_time": "2020-01-05T18:17:10.088225Z",
     "start_time": "2020-01-05T18:17:09.387773Z"
    }
   },
   "outputs": [
    {
     "name": "stderr",
     "output_type": "stream",
     "text": [
      "INFO:numexpr.utils:NumExpr defaulting to 8 threads.\n",
      "2020-01-05 20:17:10,084 — knn_model.train_pipeline — INFO —run_training:22 — Saving model version: 0.0.1\n"
     ]
    }
   ],
   "source": [
    "# Import knn_model package\n",
    "import knn_model as km\n",
    "\n",
    "# Train model\n",
    "km.train_pipeline.run_training()"
   ]
  },
  {
   "cell_type": "markdown",
   "metadata": {
    "ExecuteTime": {
     "end_time": "2019-11-23T15:15:10.061893Z",
     "start_time": "2019-11-23T15:15:10.058898Z"
    }
   },
   "source": [
    "#### Now that our model has been trained we can make predictions with it."
   ]
  },
  {
   "cell_type": "code",
   "execution_count": 5,
   "metadata": {
    "ExecuteTime": {
     "end_time": "2020-01-05T18:17:12.308009Z",
     "start_time": "2020-01-05T18:17:12.009936Z"
    }
   },
   "outputs": [
    {
     "name": "stderr",
     "output_type": "stream",
     "text": [
      "2020-01-05 20:17:12,298 — knn_model.predict — INFO —make_prediction:35 — Making predictions with model version: 0.0.1 Inputs:    0    1   10  11   12  13   14   15   16   17  ...      88      89    9  \\\n",
      "0  0    0    0   0    0   0    0  118  125   42  ...  0.0000  0.0000    0   \n",
      "1  0  207  110  13  229  90  903  386  346  125  ...  0.2222  0.2222  288   \n",
      "2  0  897   72   9   51  65  605    0    0    0  ...  0.1111  0.0000  151   \n",
      "\n",
      "       90      91      92      93      94  coordinate_x  coordinate_y  \n",
      "0  226.19 -0.0002  2.8175  0.0593  19.079      507300.0     7501200.0  \n",
      "1  222.05  0.0001  2.5342  0.0827   2.771      495910.0     7508900.0  \n",
      "2  349.39 -0.0001  2.1996  0.0413  16.662      465550.0     7530000.0  \n",
      "\n",
      "[3 rows x 97 columns] Predictions: {'predictions': [6.064967567567567, 6.723756756756757, 6.762756756756758], 'version': '0.0.1'}\n"
     ]
    },
    {
     "name": "stdout",
     "output_type": "stream",
     "text": [
      "Test: 6.6111 - Predicted: 6.064967567567567\n",
      "Test: 6.4033 - Predicted: 6.723756756756757\n",
      "Test: 6.5836 - Predicted: 6.762756756756758\n"
     ]
    }
   ],
   "source": [
    "# Load data\n",
    "X_test, y_test = km.data_management.load_data('test')\n",
    "X_test, y_test = X_test[:3], y_test[:3]\n",
    "\n",
    "# Make prediction\n",
    "y_pred = km.predict.make_prediction(input_data=X_test)\n",
    "\n",
    "\n",
    "# Print predictions\n",
    "for test, prediction in zip(y_test['target'], y_pred['predictions']):\n",
    "    print(f\"Test: {test} - Predicted: {prediction}\")\n",
    "\n"
   ]
  },
  {
   "cell_type": "markdown",
   "metadata": {},
   "source": [
    "#### Lest's go ahead and run the tests to check if everything is fine:\n",
    "    > pytest packages/wp_knn_model\n",
    "    > pytest packages/ml_api"
   ]
  },
  {
   "cell_type": "code",
   "execution_count": 6,
   "metadata": {
    "ExecuteTime": {
     "end_time": "2020-01-05T18:17:28.303984Z",
     "start_time": "2020-01-05T18:17:28.215214Z"
    }
   },
   "outputs": [
    {
     "data": {
      "text/plain": [
       "0"
      ]
     },
     "execution_count": 6,
     "metadata": {},
     "output_type": "execute_result"
    }
   ],
   "source": [
    "# knn_model tests\n",
    "os.system(\"start /B start cmd.exe @cmd /k pytest packages/wp_knn_model\")"
   ]
  },
  {
   "cell_type": "code",
   "execution_count": 7,
   "metadata": {
    "ExecuteTime": {
     "end_time": "2020-01-05T18:17:42.932333Z",
     "start_time": "2020-01-05T18:17:42.860781Z"
    }
   },
   "outputs": [
    {
     "data": {
      "text/plain": [
       "0"
      ]
     },
     "execution_count": 7,
     "metadata": {},
     "output_type": "execute_result"
    }
   ],
   "source": [
    "# API tests\n",
    "os.system(\"start /B start cmd.exe @cmd /k pytest packages/ml_api\")"
   ]
  },
  {
   "cell_type": "markdown",
   "metadata": {},
   "source": [
    "#### Now we are deploying the model as an API service using a Flask. \n",
    "We are going to deploy it locally, but it can also be deployed in any online server (like AWS or Azure Web App Services).\n",
    "\n",
    "    > python packages/ml_api/run.py\n",
    "\n",
    "(Keep next console open until we have finnished with the server)"
   ]
  },
  {
   "cell_type": "code",
   "execution_count": 8,
   "metadata": {
    "ExecuteTime": {
     "end_time": "2020-01-05T18:18:52.127384Z",
     "start_time": "2020-01-05T18:18:52.014000Z"
    }
   },
   "outputs": [
    {
     "data": {
      "text/plain": [
       "0"
      ]
     },
     "execution_count": 8,
     "metadata": {},
     "output_type": "execute_result"
    }
   ],
   "source": [
    "# Start the flask app\n",
    "os.system(\"start /B start cmd.exe @cmd /k python packages/ml_api/run.py\")\n"
   ]
  },
  {
   "cell_type": "markdown",
   "metadata": {},
   "source": [
    "#### Let's try to communicate with the server"
   ]
  },
  {
   "cell_type": "code",
   "execution_count": 8,
   "metadata": {
    "ExecuteTime": {
     "end_time": "2020-01-04T16:02:05.423674Z",
     "start_time": "2020-01-04T16:02:05.149843Z"
    }
   },
   "outputs": [
    {
     "name": "stderr",
     "output_type": "stream",
     "text": [
      "DEBUG:urllib3.connectionpool:Starting new HTTP connection (1): 127.0.0.1:80\n",
      "DEBUG:urllib3.connectionpool:http://127.0.0.1:80 \"GET /health HTTP/1.1\" 200 2\n",
      "DEBUG:urllib3.connectionpool:Starting new HTTP connection (1): 127.0.0.1:80\n",
      "DEBUG:urllib3.connectionpool:http://127.0.0.1:80 \"GET /version HTTP/1.1\" 200 58\n"
     ]
    },
    {
     "name": "stdout",
     "output_type": "stream",
     "text": [
      "Health: ok \n",
      "\n",
      "Model version: 0.0.1 \n",
      "API version: 0.0.1\n"
     ]
    }
   ],
   "source": [
    "import requests\n",
    "import json\n",
    "\n",
    "# Check health of the server\n",
    "response = requests.get('http://127.0.0.1/health')\n",
    "print(f\"Health: {response.text} \\n\")\n",
    "\n",
    "# Get version\n",
    "response = requests.get('http://127.0.0.1/version')\n",
    "response_json = json.loads(response.text)\n",
    "print(f\"Model version: {response_json['model_version']} \\nAPI version: {response_json['api_version']}\")\n"
   ]
  },
  {
   "cell_type": "markdown",
   "metadata": {
    "ExecuteTime": {
     "end_time": "2019-11-23T16:30:59.873757Z",
     "start_time": "2019-11-23T16:30:59.855375Z"
    }
   },
   "source": [
    "#### Let's try to post a prediction request to the API "
   ]
  },
  {
   "cell_type": "code",
   "execution_count": 9,
   "metadata": {
    "ExecuteTime": {
     "end_time": "2020-01-04T16:02:29.096004Z",
     "start_time": "2020-01-04T16:02:28.774235Z"
    }
   },
   "outputs": [
    {
     "name": "stderr",
     "output_type": "stream",
     "text": [
      "DEBUG:urllib3.connectionpool:Starting new HTTP connection (1): 127.0.0.1:80\n",
      "DEBUG:urllib3.connectionpool:http://127.0.0.1:80 \"POST /v1/predict HTTP/1.1\" 200 137\n"
     ]
    },
    {
     "name": "stdout",
     "output_type": "stream",
     "text": [
      "{'errors': [], 'predictions': [6.064967567567567, 6.723756756756757, 6.762756756756758], 'version': '0.0.1'}\n"
     ]
    }
   ],
   "source": [
    "# Load data\n",
    "X_test, y_test = km.data_management.load_data('test')\n",
    "post_json = X_test[:3].to_json(orient='records')\n",
    "\n",
    "# Send post request\n",
    "response = requests.post('http://127.0.0.1/v1/predict', json=json.loads(post_json))\n",
    "response_json = json.loads(response.text)\n",
    "\n",
    "print(response_json)"
   ]
  }
 ],
 "metadata": {
  "kernelspec": {
   "display_name": "Python 3",
   "language": "python",
   "name": "python3"
  },
  "language_info": {
   "codemirror_mode": {
    "name": "ipython",
    "version": 3
   },
   "file_extension": ".py",
   "mimetype": "text/x-python",
   "name": "python",
   "nbconvert_exporter": "python",
   "pygments_lexer": "ipython3",
   "version": "3.7.4"
  },
  "varInspector": {
   "cols": {
    "lenName": 16,
    "lenType": 16,
    "lenVar": 40
   },
   "kernels_config": {
    "python": {
     "delete_cmd_postfix": "",
     "delete_cmd_prefix": "del ",
     "library": "var_list.py",
     "varRefreshCmd": "print(var_dic_list())"
    },
    "r": {
     "delete_cmd_postfix": ") ",
     "delete_cmd_prefix": "rm(",
     "library": "var_list.r",
     "varRefreshCmd": "cat(var_dic_list()) "
    }
   },
   "types_to_exclude": [
    "module",
    "function",
    "builtin_function_or_method",
    "instance",
    "_Feature"
   ],
   "window_display": false
  }
 },
 "nbformat": 4,
 "nbformat_minor": 2
}
